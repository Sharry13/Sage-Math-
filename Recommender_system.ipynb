{
  "nbformat": 4,
  "nbformat_minor": 0,
  "metadata": {
    "colab": {
      "provenance": []
    },
    "kernelspec": {
      "name": "python3",
      "display_name": "Python 3"
    },
    "language_info": {
      "name": "python"
    }
  },
  "cells": [
    {
      "cell_type": "code",
      "execution_count": 7,
      "metadata": {
        "id": "7jE-_LP1FhMI"
      },
      "outputs": [],
      "source": [
        "import numpy\n",
        "\n",
        "\n",
        "\n",
        "def matrix_factorization(R, P, Q, K, steps=5000, alpha=0.0002, beta=0.02):\n",
        "   #steps: iterations\n",
        "    #alpha: learning rate\n",
        "    #beta: regularization parameter\n",
        "    Q = Q.T\n",
        "\n",
        "    for step in range(steps):\n",
        "\n",
        "        for i in range(len(R)):\n",
        "\n",
        "            for j in range(len(R[i])):\n",
        "\n",
        "                if R[i][j] > 0:\n",
        "# calculate error\n",
        "                    eij = R[i][j] - numpy.dot(P[i,:],Q[:,j])\n",
        "# Update P and Q based on the error\n",
        "                    for k in range(K):\n",
        "# calculate gradient with a and beta parameter\n",
        "                        P[i][k] = P[i][k] + alpha * (2 * eij * Q[k][j] - beta * P[i][k])\n",
        "\n",
        "                        Q[k][j] = Q[k][j] + alpha * (2 * eij * P[i][k] - beta * Q[k][j])\n",
        "\n",
        "        eR = numpy.dot(P,Q)\n",
        "# Calculate the error (after each full pass through the matrix)\n",
        "        e = 0\n",
        "\n",
        "        for i in range(len(R)):\n",
        "\n",
        "            for j in range(len(R[i])):\n",
        "\n",
        "                if R[i][j] > 0:\n",
        "\n",
        "                    e = e + pow(R[i][j] - numpy.dot(P[i,:],Q[:,j]), 2)\n",
        "\n",
        "                    for k in range(K):\n",
        "\n",
        "                        e = e + (beta/2) * (pow(P[i][k],2) + pow(Q[k][j],2))\n",
        "# If the error(0.001:local minimum) is less than a threshold, break the loop\n",
        "        if e < 0.001:\n",
        "\n",
        "            break\n",
        "    return P, Q.T"
      ]
    },
    {
      "cell_type": "code",
      "source": [
        "R = [\n",
        "\n",
        "     [5,3,0,1],\n",
        "\n",
        "     [4,0,0,1],\n",
        "\n",
        "     [1,1,0,5],\n",
        "\n",
        "     [1,0,0,4],\n",
        "\n",
        "     [0,1,5,4],\n",
        "\n",
        "    ]\n",
        "\n",
        "\n",
        "\n",
        "R = numpy.array(R)\n",
        "10\n",
        "\n",
        "# N: num of User\n",
        "N = len(R)\n",
        "# M: num of Movie\n",
        "M = len(R[0])\n",
        "# Num of Features\n",
        "K = 2\n",
        "\n",
        "# Initialize P and Q with random values\n",
        "\n",
        "P = numpy.random.rand(N,K)\n",
        "\n",
        "Q = numpy.random.rand(M,K)\n",
        "\n",
        "\n",
        "\n",
        "nP, nQ = matrix_factorization(R, P, Q, K)\n",
        "\n",
        "nR = numpy.dot(nP, nQ.T)"
      ],
      "metadata": {
        "id": "sbove-TTFtny"
      },
      "execution_count": 8,
      "outputs": []
    },
    {
      "cell_type": "code",
      "source": [
        "import numpy as np\n",
        "import pandas as pd\n",
        "\n",
        "# code to initialize R, N, M, P, Q, and perform matrix factorization\n",
        "\n",
        "# Convert matrices to DataFrames\n",
        "df_R = pd.DataFrame(R, columns=[f'Item {i}' for i in range(M)], index=[f'User {i}' for i in range(N)])\n",
        "df_P = pd.DataFrame(nP, columns=[f'Feature {i}' for i in range(K)], index=[f'User {i}' for i in range(N)])\n",
        "df_Q = pd.DataFrame(nQ.T, columns=[f'Item {i}' for i in range(M)], index=[f'Feature {i}' for i in range(K)])\n",
        "df_nR = pd.DataFrame(nR, columns=[f'Item {i}' for i in range(M)], index=[f'User {i}' for i in range(N)])\n",
        "\n",
        "# Display DataFrames in tabular format\n",
        "print(nR)\n",
        "print(\"Original Rating Matrix R:\")\n",
        "print(df_R.to_string())\n",
        "print(\"\\nUser-Feature Matrix P:\")\n",
        "print(df_P.to_string())\n",
        "print(\"\\nItem-Feature Matrix Q:\")\n",
        "print(df_Q.to_string())\n",
        "print(\"\\nPredicted Rating Matrix nR:\")\n",
        "print(df_nR.to_string())\n"
      ],
      "metadata": {
        "colab": {
          "base_uri": "https://localhost:8080/"
        },
        "id": "RYsauvzGIU4D",
        "outputId": "e69bbf68-fbe2-45b1-ff7d-0d95375d09d4"
      },
      "execution_count": 10,
      "outputs": [
        {
          "output_type": "stream",
          "name": "stdout",
          "text": [
            "[[4.97616048 2.98466985 1.79171742 1.00064994]\n",
            " [3.98235783 2.40532227 1.66678937 0.99625051]\n",
            " [0.99906712 1.00581817 6.02017137 4.95097343]\n",
            " [1.00238733 0.92364819 4.84967477 3.9683933 ]\n",
            " [1.10976698 0.99270745 4.95312535 4.04435376]]\n",
            "Original Rating Matrix R:\n",
            "        Item 0  Item 1  Item 2  Item 3\n",
            "User 0       5       3       0       1\n",
            "User 1       4       0       0       1\n",
            "User 2       1       1       0       5\n",
            "User 3       1       0       0       4\n",
            "User 4       0       1       5       4\n",
            "\n",
            "User-Feature Matrix P:\n",
            "        Feature 0  Feature 1\n",
            "User 0   2.129933  -0.070707\n",
            "User 1   1.710489   0.037312\n",
            "User 2   0.571781   2.267907\n",
            "User 3   0.543363   1.795473\n",
            "User 4   0.590975   1.820067\n",
            "\n",
            "Item-Feature Matrix Q:\n",
            "             Item 0    Item 1    Item 2    Item 3\n",
            "Feature 0  2.331411  1.404267  0.921616  0.537773\n",
            "Feature 1 -0.147268  0.089459  2.422149  2.047475\n",
            "\n",
            "Predicted Rating Matrix nR:\n",
            "          Item 0    Item 1    Item 2    Item 3\n",
            "User 0  4.976160  2.984670  1.791717  1.000650\n",
            "User 1  3.982358  2.405322  1.666789  0.996251\n",
            "User 2  0.999067  1.005818  6.020171  4.950973\n",
            "User 3  1.002387  0.923648  4.849675  3.968393\n",
            "User 4  1.109767  0.992707  4.953125  4.044354\n"
          ]
        }
      ]
    },
    {
      "cell_type": "code",
      "source": [
        "import numpy as np\n",
        "import pandas as pd\n",
        "\n",
        "# Your code to initialize R, N, M, P, Q, and perform matrix factorization\n",
        "\n",
        "# Convert matrices to DataFrames\n",
        "df_R = pd.DataFrame(R, columns=[f'Item {i}' for i in range(M)], index=[f'User {i}' for i in range(N)])\n",
        "df_P = pd.DataFrame(nP, columns=[f'Feature {i}' for i in range(K)], index=[f'User {i}' for i in range(N)])\n",
        "df_Q = pd.DataFrame(nQ.T, columns=[f'Item {i}' for i in range(M)], index=[f'Feature {i}' for i in range(K)])\n",
        "df_nR = pd.DataFrame(nR, columns=[f'Item {i}' for i in range(M)], index=[f'User {i}' for i in range(N)])\n",
        "\n",
        "# Concatenate the DataFrames horizontally\n",
        "result = pd.concat([df_R, df_P, df_Q, df_nR], axis=1)\n",
        "\n",
        "# Display the result in tabular format\n",
        "print(result.to_string())\n"
      ],
      "metadata": {
        "colab": {
          "base_uri": "https://localhost:8080/"
        },
        "id": "jB6vHVlPGEl5",
        "outputId": "70a446b4-9b57-4fec-b99e-a077d88cfdc7"
      },
      "execution_count": null,
      "outputs": [
        {
          "output_type": "stream",
          "name": "stdout",
          "text": [
            "           Item 0  Item 1  Item 2  Item 3  Feature 0  Feature 1    Item 0    Item 1    Item 2    Item 3    Item 0    Item 1    Item 2    Item 3\n",
            "User 0        5.0     3.0     0.0     1.0   2.137264   0.768402       NaN       NaN       NaN       NaN  4.999437  2.922198  4.630586  0.996542\n",
            "User 1        4.0     0.0     0.0     1.0   1.671667   0.694067       NaN       NaN       NaN       NaN  3.959488  2.321336  3.843375  0.996732\n",
            "User 2        1.0     1.0     0.0     5.0  -0.017051   2.121880       NaN       NaN       NaN       NaN  1.084368  0.793753  5.029286  4.960747\n",
            "User 3        1.0     0.0     0.0     4.0   0.026813   1.705189       NaN       NaN       NaN       NaN  0.958497  0.687679  4.094744  3.971444\n",
            "User 4        0.0     1.0     5.0     4.0   0.459254   1.804142       NaN       NaN       NaN       NaN  1.940194  1.257238  4.897111  4.041110\n",
            "Feature 0     NaN     NaN     NaN     NaN        NaN        NaN  2.149234  1.229218  1.310659 -0.373188       NaN       NaN       NaN       NaN\n",
            "Feature 1     NaN     NaN     NaN     NaN        NaN        NaN  0.528312  0.383958  2.380735  2.334903       NaN       NaN       NaN       NaN\n"
          ]
        }
      ]
    },
    {
      "cell_type": "code",
      "source": [],
      "metadata": {
        "id": "iMeQqgHHHE8C"
      },
      "execution_count": null,
      "outputs": []
    }
  ]
}